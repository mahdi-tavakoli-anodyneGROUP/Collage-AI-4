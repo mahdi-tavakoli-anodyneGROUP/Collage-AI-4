{
  "nbformat": 4,
  "nbformat_minor": 0,
  "metadata": {
    "colab": {
      "provenance": [],
      "authorship_tag": "ABX9TyMCkEI/o5ZiPGck8FWnKAEj",
      "include_colab_link": true
    },
    "kernelspec": {
      "name": "python3",
      "display_name": "Python 3"
    },
    "language_info": {
      "name": "python"
    }
  },
  "cells": [
    {
      "cell_type": "markdown",
      "metadata": {
        "id": "view-in-github",
        "colab_type": "text"
      },
      "source": [
        "<a href=\"https://colab.research.google.com/github/mahdi-tavakoli-anodyneGROUP/Collage-AI-4/blob/activating_code/code1.ipynb\" target=\"_parent\"><img src=\"https://colab.research.google.com/assets/colab-badge.svg\" alt=\"Open In Colab\"/></a>"
      ]
    },
    {
      "cell_type": "code",
      "execution_count": null,
      "metadata": {
        "id": "3s7YRTB1wVgs"
      },
      "outputs": [],
      "source": [
        "!pip install roboflow\n",
        "\n",
        "from roboflow import Roboflow\n",
        "rf = Roboflow(api_key=\"BhJ63IemG3ACRXXxUyzC\")\n",
        "project = rf.workspace(\"dental-decay\").project(\"check-hfbzl-zemwx\")\n",
        "version = project.version(18)\n",
        "dataset = version.download(\"yolov8\")"
      ]
    },
    {
      "cell_type": "code",
      "source": [
        "!pip install ultralytics\n",
        "\n",
        "from ultralytics import YOLO\n",
        "\n",
        "model = YOLO('yolov8n-seg.pt')"
      ],
      "metadata": {
        "id": "qq__U6A20OE2"
      },
      "execution_count": null,
      "outputs": []
    },
    {
      "cell_type": "code",
      "source": [
        "model.train(data=\"/content/CHECK-18/data.yaml\")\n",
        "train_prams ={'epochs':100,\n",
        "             'imgsz':640,\n",
        "             'batch':16,\n",
        "             'workers':2,\n",
        "             'device':0,\n",
        "             'cls-pw':{1.0,1.5,2.0}\n",
        "\n",
        "}"
      ],
      "metadata": {
        "id": "VmPCJ9rj0RJ6"
      },
      "execution_count": null,
      "outputs": []
    },
    {
      "cell_type": "code",
      "source": [
        "result = model.predict('/content/CHECK-18/train/images/105_jpg.rf.4e3d82c5e736269967c0bba05397c25f.jpg', save=True, conf=0.30, iou=0.5)"
      ],
      "metadata": {
        "id": "vqKK5E880ZGq"
      },
      "execution_count": null,
      "outputs": []
    }
  ]
}