{
  "nbformat": 4,
  "nbformat_minor": 0,
  "metadata": {
    "colab": {
      "provenance": [],
      "gpuType": "T4",
      "include_colab_link": true
    },
    "kernelspec": {
      "name": "python3",
      "display_name": "Python 3"
    },
    "language_info": {
      "name": "python"
    },
    "accelerator": "GPU"
  },
  "cells": [
    {
      "cell_type": "markdown",
      "metadata": {
        "id": "view-in-github",
        "colab_type": "text"
      },
      "source": [
        "<a href=\"https://colab.research.google.com/github/mahdi-tavakoli-anodyneGROUP/Collage-AI-4/blob/Code/code2.ipynb\" target=\"_parent\"><img src=\"https://colab.research.google.com/assets/colab-badge.svg\" alt=\"Open In Colab\"/></a>"
      ]
    },
    {
      "cell_type": "code",
      "source": [
        "import locale\n",
        "locale.getpreferredencoding = lambda: \"UTF-8\""
      ],
      "metadata": {
        "id": "PpiCO4HYxsBM"
      },
      "execution_count": null,
      "outputs": []
    },
    {
      "cell_type": "code",
      "execution_count": null,
      "metadata": {
        "id": "FrIyAbcu6aCC"
      },
      "outputs": [],
      "source": [
        "!pip install roboflow\n",
        "\n",
        "\n",
        "from roboflow import Roboflow\n",
        "rf = Roboflow(api_key=\"BhJ63IemG3ACRXXxUyzC\")\n",
        "project = rf.workspace(\"dental-decay\").project(\"check-hfbzl-zemwx\")\n",
        "version = project.version(18)\n",
        "dataset = version.download(\"yolov8\")\n"
      ]
    },
    {
      "cell_type": "code",
      "source": [
        "!pip install ultralytics\n",
        "\n",
        "from ultralytics import YOLO\n",
        "\n",
        "model = YOLO('yolov8n-seg.pt')"
      ],
      "metadata": {
        "id": "XYPSKoOF6ivS"
      },
      "execution_count": null,
      "outputs": []
    },
    {
      "cell_type": "code",
      "source": [
        "model=YOLO('yolov8n-seg.pt')\n"
      ],
      "metadata": {
        "id": "-q8GYZwmDOEu"
      },
      "execution_count": null,
      "outputs": []
    },
    {
      "cell_type": "code",
      "source": [
        "model.train(data=\"/content/CHECK-18/data.yaml\")\n",
        "train_prams ={'epochs':100,\n",
        "             'imgsz':640,\n",
        "             'batch':32,\n",
        "             'workers':2,\n",
        "             'device':0,\n",
        "            'cls-pw': {1.0,1.5,2.0}}"
      ],
      "metadata": {
        "id": "HrLzINtK34jp"
      },
      "execution_count": null,
      "outputs": []
    },
    {
      "cell_type": "code",
      "source": [
        "model.predict('/content/CHECK-18/test/images/132_jpg.rf.e5f22415915c13dc9bad062f8c2fe09b.jpg',save=True , conf=0.30)"
      ],
      "metadata": {
        "id": "_0IbA_AO7xAO"
      },
      "execution_count": null,
      "outputs": []
    }
  ]
}